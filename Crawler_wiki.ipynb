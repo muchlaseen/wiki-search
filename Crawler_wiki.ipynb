{
 "cells": [
  {
   "cell_type": "code",
   "execution_count": 26,
   "metadata": {},
   "outputs": [],
   "source": [
    "# import library\n",
    "from bs4 import BeautifulSoup\n",
    "import requests\n",
    "import pandas as pd  "
   ]
  },
  {
   "cell_type": "code",
   "execution_count": 27,
   "metadata": {},
   "outputs": [],
   "source": [
    "# url target\n",
    "root_uri = 'https://en.wikipedia.org/'\n",
    "url = root_uri+'w/index.php?search=Artificial+intelligence&title=Special%3ASearch&profile=advanced&fulltext=1&ns0=1'\n",
    "# response from url\n",
    "response = requests.get(url)\n",
    "# data abstract text\n",
    "data = response.text\n",
    "# parse html with soup\n",
    "soup = BeautifulSoup(data,'html.parser')\n",
    "# tags extraction from html parse\n",
    "content_list = soup.find('ul',{'class':'mw-search-results'})"
   ]
  },
  {
   "cell_type": "code",
   "execution_count": 28,
   "metadata": {},
   "outputs": [
    {
     "data": {
      "text/plain": [
       "<ul class=\"mw-search-results\"><li class=\"mw-search-result\"><div class=\"mw-search-result-heading\"><a data-serp-pos=\"0\" href=\"/wiki/Artificial_intelligence\" title=\"Artificial intelligence\"><span class=\"searchmatch\">Artificial</span> <span class=\"searchmatch\">intelligence</span></a> </div><div class=\"searchresult\"><span class=\"searchmatch\">Artificial</span> <span class=\"searchmatch\">intelligence</span> (AI) is <span class=\"searchmatch\">intelligence</span> demonstrated by machines, unlike the natural <span class=\"searchmatch\">intelligence</span> displayed by humans and animals, which involves</div> <div class=\"mw-search-result-data\">219 KB (22,560 words) - 14:05, 30 April 2021</div></li><li class=\"mw-search-result\"><div class=\"mw-search-result-heading\"><a data-serp-pos=\"1\" href=\"/wiki/A.I._Artificial_Intelligence\" title=\"A.I. Artificial Intelligence\">A.I. <span class=\"searchmatch\">Artificial</span> <span class=\"searchmatch\">Intelligence</span></a> </div><div class=\"searchresult\">A.I. <span class=\"searchmatch\">Artificial</span> <span class=\"searchmatch\">Intelligence</span> (also known as A.I.) is a 2001 American science fiction drama film directed by Steven Spielberg. The screenplay by Spielberg</div> <div class=\"mw-search-result-data\">53 KB (5,039 words) - 12:42, 4 May 2021</div></li><li class=\"mw-search-result\"><div class=\"mw-search-result-heading\"><a data-serp-pos=\"2\" href=\"/wiki/Artificial_general_intelligence\" title=\"Artificial general intelligence\"><span class=\"searchmatch\">Artificial</span> general <span class=\"searchmatch\">intelligence</span></a> </div><div class=\"searchresult\"><span class=\"searchmatch\">Artificial</span> general <span class=\"searchmatch\">intelligence</span> (AGI) is the hypothetical ability of an intelligent agent to understand or learn any intellectual task that a human being</div> <div class=\"mw-search-result-data\">83 KB (9,011 words) - 11:11, 4 May 2021</div></li><li class=\"mw-search-result\"><div class=\"mw-search-result-heading\"><a data-serp-pos=\"3\" href=\"/wiki/Applications_of_artificial_intelligence\" title=\"Applications of artificial intelligence\">Applications of <span class=\"searchmatch\">artificial</span> <span class=\"searchmatch\">intelligence</span></a> </div><div class=\"searchresult\"><span class=\"searchmatch\">Artificial</span> <span class=\"searchmatch\">intelligence</span>, defined as <span class=\"searchmatch\">intelligence</span> exhibited by machines, has many applications in today's society. More specifically, it is Weak AI, the</div> <div class=\"mw-search-result-data\">94 KB (10,427 words) - 11:26, 3 May 2021</div></li><li class=\"mw-search-result\"><div class=\"mw-search-result-heading\"><a data-serp-pos=\"4\" href=\"/wiki/Philosophy_of_artificial_intelligence\" title=\"Philosophy of artificial intelligence\">Philosophy of <span class=\"searchmatch\">artificial</span> <span class=\"searchmatch\">intelligence</span></a> </div><div class=\"searchresult\">The philosophy of <span class=\"searchmatch\">artificial</span> <span class=\"searchmatch\">intelligence</span> is a branch of the philosophy of technology that explores <span class=\"searchmatch\">artificial</span> <span class=\"searchmatch\">intelligence</span> and its implications for knowledge</div> <div class=\"mw-search-result-data\">66 KB (8,427 words) - 23:42, 7 April 2021</div></li><li class=\"mw-search-result\"><div class=\"mw-search-result-heading\"><a data-serp-pos=\"5\" href=\"/wiki/Artificial_intelligence_in_healthcare\" title=\"Artificial intelligence in healthcare\"><span class=\"searchmatch\">Artificial</span> <span class=\"searchmatch\">intelligence</span> in healthcare</a> </div><div class=\"searchresult\"><span class=\"searchmatch\">Artificial</span> <span class=\"searchmatch\">intelligence</span> in healthcare, known also as Deep Medicine, is an overarching term used to describe the use of machine-learning algorithms and</div> <div class=\"mw-search-result-data\">62 KB (7,239 words) - 08:57, 22 April 2021</div></li><li class=\"mw-search-result\"><div class=\"mw-search-result-heading\"><a data-serp-pos=\"6\" href=\"/wiki/History_of_artificial_intelligence\" title=\"History of artificial intelligence\">History of <span class=\"searchmatch\">artificial</span> <span class=\"searchmatch\">intelligence</span></a> </div><div class=\"searchresult\">history of <span class=\"searchmatch\">Artificial</span> <span class=\"searchmatch\">Intelligence</span> (AI) began in antiquity, with myths, stories and rumors of <span class=\"searchmatch\">artificial</span> beings endowed with <span class=\"searchmatch\">intelligence</span> or consciousness</div> <div class=\"mw-search-result-data\">111 KB (13,946 words) - 04:24, 3 May 2021</div></li><li class=\"mw-search-result\"><div class=\"mw-search-result-heading\"><a data-serp-pos=\"7\" href=\"/wiki/Ethics_of_artificial_intelligence\" title=\"Ethics of artificial intelligence\">Ethics of <span class=\"searchmatch\">artificial</span> <span class=\"searchmatch\">intelligence</span></a> </div><div class=\"searchresult\">The ethics of <span class=\"searchmatch\">artificial</span> <span class=\"searchmatch\">intelligence</span> is the branch of the ethics of technology specific to <span class=\"searchmatch\">artificially</span> intelligent systems. It is sometimes divided into</div> <div class=\"mw-search-result-data\">73 KB (7,507 words) - 21:25, 3 May 2021</div></li><li class=\"mw-search-result\"><div class=\"mw-search-result-heading\"><a data-serp-pos=\"8\" href=\"/wiki/Artificial_intelligence_in_video_games\" title=\"Artificial intelligence in video games\"><span class=\"searchmatch\">Artificial</span> <span class=\"searchmatch\">intelligence</span> in video games</a> </div><div class=\"searchresult\">In video games, <span class=\"searchmatch\">artificial</span> <span class=\"searchmatch\">intelligence</span> (AI) is used to generate responsive, adaptive or intelligent behaviors primarily in non-player characters (NPCs)</div> <div class=\"mw-search-result-data\">37 KB (4,668 words) - 02:14, 30 April 2021</div></li><li class=\"mw-search-result\"><div class=\"mw-search-result-heading\"><a data-serp-pos=\"9\" href=\"/wiki/Artificial_intelligence_marketing\" title=\"Artificial intelligence marketing\"><span class=\"searchmatch\">Artificial</span> <span class=\"searchmatch\">intelligence</span> marketing</a> </div><div class=\"searchresult\"><span class=\"searchmatch\">Artificial</span> <span class=\"searchmatch\">intelligence</span> marketing (AIM) is a form of marketing leveraging <span class=\"searchmatch\">artificial</span> <span class=\"searchmatch\">intelligence</span> concept and model such as machine learning and Bayesian</div> <div class=\"mw-search-result-data\">4 KB (431 words) - 02:14, 11 March 2021</div></li><li class=\"mw-search-result\"><div class=\"mw-search-result-heading\"><a data-serp-pos=\"10\" href=\"/wiki/Existential_risk_from_artificial_general_intelligence\" title=\"Existential risk from artificial general intelligence\">Existential risk from <span class=\"searchmatch\">artificial</span> general <span class=\"searchmatch\">intelligence</span></a> </div><div class=\"searchresult\">Existential risk from <span class=\"searchmatch\">artificial</span> general <span class=\"searchmatch\">intelligence</span> is the hypothesis that substantial progress in <span class=\"searchmatch\">artificial</span> general <span class=\"searchmatch\">intelligence</span> (AGI) could someday</div> <div class=\"mw-search-result-data\">102 KB (12,085 words) - 13:46, 3 May 2021</div></li><li class=\"mw-search-result\"><div class=\"mw-search-result-heading\"><a data-serp-pos=\"11\" href=\"/wiki/Outline_of_artificial_intelligence\" title=\"Outline of artificial intelligence\">Outline of <span class=\"searchmatch\">artificial</span> <span class=\"searchmatch\">intelligence</span></a> </div><div class=\"searchresult\">provided as an overview of and topical guide to <span class=\"searchmatch\">artificial</span> <span class=\"searchmatch\">intelligence</span>: <span class=\"searchmatch\">Artificial</span> <span class=\"searchmatch\">intelligence</span> (AI) – <span class=\"searchmatch\">intelligence</span> exhibited by machines or software. It is</div> <div class=\"mw-search-result-data\">35 KB (3,666 words) - 08:35, 18 April 2021</div></li><li class=\"mw-search-result\"><div class=\"mw-search-result-heading\"><a data-serp-pos=\"12\" href=\"/wiki/Explainable_artificial_intelligence\" title=\"Explainable artificial intelligence\">Explainable <span class=\"searchmatch\">artificial</span> <span class=\"searchmatch\">intelligence</span></a> </div><div class=\"searchresult\">Explainable AI (XAI) is <span class=\"searchmatch\">artificial</span> <span class=\"searchmatch\">intelligence</span> (AI) in which the results of the solution can be understood by humans. It contrasts with the concept of</div> <div class=\"mw-search-result-data\">36 KB (3,853 words) - 19:54, 25 April 2021</div></li><li class=\"mw-search-result\"><div class=\"mw-search-result-heading\"><a data-serp-pos=\"13\" href=\"/wiki/Timeline_of_artificial_intelligence\" title=\"Timeline of artificial intelligence\">Timeline of <span class=\"searchmatch\">artificial</span> <span class=\"searchmatch\">intelligence</span></a> </div><div class=\"searchresult\">This is a timeline of <span class=\"searchmatch\">artificial</span> <span class=\"searchmatch\">intelligence</span>. Timeline of machine translation Timeline of machine learning McCorduck 2004, pp. 4–5 McCorduck (2004, pp</div> <div class=\"mw-search-result-data\">66 KB (1,982 words) - 02:43, 13 April 2021</div></li><li class=\"mw-search-result\"><div class=\"mw-search-result-heading\"><a data-serp-pos=\"14\" href=\"/wiki/Friendly_artificial_intelligence\" title=\"Friendly artificial intelligence\">Friendly <span class=\"searchmatch\">artificial</span> <span class=\"searchmatch\">intelligence</span></a> </div><div class=\"searchresult\">Friendly <span class=\"searchmatch\">artificial</span> <span class=\"searchmatch\">intelligence</span> (also friendly AI or FAI) refers to hypothetical <span class=\"searchmatch\">artificial</span> general <span class=\"searchmatch\">intelligence</span> (AGI) that would have a positive (benign)</div> <div class=\"mw-search-result-data\">21 KB (2,519 words) - 07:33, 15 February 2021</div></li><li class=\"mw-search-result\"><div class=\"mw-search-result-heading\"><a data-serp-pos=\"15\" href=\"/wiki/Artificial_intelligence_(disambiguation)\" title=\"Artificial intelligence (disambiguation)\"><span class=\"searchmatch\">Artificial</span> <span class=\"searchmatch\">intelligence</span> (disambiguation)</a> </div><div class=\"searchresult\"><span class=\"searchmatch\">Artificial</span> <span class=\"searchmatch\">intelligence</span> is the <span class=\"searchmatch\">intelligence</span> exhibited by machines and software. <span class=\"searchmatch\">Artificial</span> <span class=\"searchmatch\">intelligence</span> may also refer to: <span class=\"searchmatch\">Artificial</span> <span class=\"searchmatch\">Intelligence</span>, a 1997</div> <div class=\"mw-search-result-data\">1 KB (149 words) - 04:27, 13 December 2020</div></li><li class=\"mw-search-result\"><div class=\"mw-search-result-heading\"><a data-serp-pos=\"16\" href=\"/wiki/Regulation_of_artificial_intelligence\" title=\"Regulation of artificial intelligence\">Regulation of <span class=\"searchmatch\">artificial</span> <span class=\"searchmatch\">intelligence</span></a> </div><div class=\"searchresult\">regulation of <span class=\"searchmatch\">artificial</span> <span class=\"searchmatch\">intelligence</span> is the development of public sector policies and laws for promoting and regulating <span class=\"searchmatch\">artificial</span> <span class=\"searchmatch\">intelligence</span> (AI); it is</div> <div class=\"mw-search-result-data\">39 KB (4,338 words) - 23:38, 3 May 2021</div></li><li class=\"mw-search-result\"><div class=\"mw-search-result-heading\"><a data-serp-pos=\"17\" href=\"/wiki/Progress_in_artificial_intelligence\" title=\"Progress in artificial intelligence\">Progress in <span class=\"searchmatch\">artificial</span> <span class=\"searchmatch\">intelligence</span></a> </div><div class=\"searchresult\"><span class=\"searchmatch\">Artificial</span> <span class=\"searchmatch\">intelligence</span> applications have been used in a wide range of fields including medical diagnosis, stock trading, robot control, law, scientific</div> <div class=\"mw-search-result-data\">33 KB (3,078 words) - 13:33, 19 April 2021</div></li><li class=\"mw-search-result\"><div class=\"mw-search-result-heading\"><a data-serp-pos=\"18\" href=\"/wiki/Artificial_intelligence_arms_race\" title=\"Artificial intelligence arms race\"><span class=\"searchmatch\">Artificial</span> <span class=\"searchmatch\">intelligence</span> arms race</a> </div><div class=\"searchresult\">military <span class=\"searchmatch\">artificial</span> <span class=\"searchmatch\">intelligence</span> arms race is a competition between two or more states to have their military forces equipped with the best <span class=\"searchmatch\">artificial</span> intelligence</div> <div class=\"mw-search-result-data\">43 KB (4,812 words) - 22:05, 4 March 2021</div></li><li class=\"mw-search-result\"><div class=\"mw-search-result-heading\"><a data-serp-pos=\"19\" href=\"/wiki/Artificial_intelligence_in_fiction\" title=\"Artificial intelligence in fiction\"><span class=\"searchmatch\">Artificial</span> <span class=\"searchmatch\">intelligence</span> in fiction</a> </div><div class=\"searchresult\"><span class=\"searchmatch\">Artificial</span> <span class=\"searchmatch\">intelligence</span> is a recurrent theme in science fiction, whether utopian, emphasising the potential benefits, or dystopian, emphasising the dangers</div> <div class=\"mw-search-result-data\">19 KB (1,840 words) - 09:25, 20 April 2021</div></li></ul>"
      ]
     },
     "execution_count": 28,
     "metadata": {},
     "output_type": "execute_result"
    }
   ],
   "source": [
    "content_list"
   ]
  },
  {
   "cell_type": "code",
   "execution_count": 29,
   "metadata": {},
   "outputs": [
    {
     "name": "stdout",
     "output_type": "stream",
     "text": [
      "title =  Artificial intelligence\n",
      "url =  https://en.wikipedia.org/wiki//wiki/Artificial_intelligence\n",
      "word timestamp =  219 KB (22,560 words) - 14:05, 30 April 2021\n",
      "description =  Artificial intelligence (AI) is intelligence demonstrated by machines, unlike the natural intelligence displayed by humans and animals, which involves\n",
      "title =  A.I. Artificial Intelligence\n",
      "url =  https://en.wikipedia.org/wiki//wiki/A.I._Artificial_Intelligence\n",
      "word timestamp =  53 KB (5,039 words) - 12:42, 4 May 2021\n",
      "description =  A.I. Artificial Intelligence (also known as A.I.) is a 2001 American science fiction drama film directed by Steven Spielberg. The screenplay by Spielberg\n",
      "title =  Artificial general intelligence\n",
      "url =  https://en.wikipedia.org/wiki//wiki/Artificial_general_intelligence\n",
      "word timestamp =  83 KB (9,011 words) - 11:11, 4 May 2021\n",
      "description =  Artificial general intelligence (AGI) is the hypothetical ability of an intelligent agent to understand or learn any intellectual task that a human being\n",
      "title =  Applications of artificial intelligence\n",
      "url =  https://en.wikipedia.org/wiki//wiki/Applications_of_artificial_intelligence\n",
      "word timestamp =  94 KB (10,427 words) - 11:26, 3 May 2021\n",
      "description =  Artificial intelligence, defined as intelligence exhibited by machines, has many applications in today's society. More specifically, it is Weak AI, the\n",
      "title =  Philosophy of artificial intelligence\n",
      "url =  https://en.wikipedia.org/wiki//wiki/Philosophy_of_artificial_intelligence\n",
      "word timestamp =  66 KB (8,427 words) - 23:42, 7 April 2021\n",
      "description =  The philosophy of artificial intelligence is a branch of the philosophy of technology that explores artificial intelligence and its implications for knowledge\n",
      "title =  Artificial intelligence in healthcare\n",
      "url =  https://en.wikipedia.org/wiki//wiki/Artificial_intelligence_in_healthcare\n",
      "word timestamp =  62 KB (7,239 words) - 08:57, 22 April 2021\n",
      "description =  Artificial intelligence in healthcare, known also as Deep Medicine, is an overarching term used to describe the use of machine-learning algorithms and\n",
      "title =  History of artificial intelligence\n",
      "url =  https://en.wikipedia.org/wiki//wiki/History_of_artificial_intelligence\n",
      "word timestamp =  111 KB (13,946 words) - 04:24, 3 May 2021\n",
      "description =  history of Artificial Intelligence (AI) began in antiquity, with myths, stories and rumors of artificial beings endowed with intelligence or consciousness\n",
      "title =  Ethics of artificial intelligence\n",
      "url =  https://en.wikipedia.org/wiki//wiki/Ethics_of_artificial_intelligence\n",
      "word timestamp =  73 KB (7,507 words) - 21:25, 3 May 2021\n",
      "description =  The ethics of artificial intelligence is the branch of the ethics of technology specific to artificially intelligent systems. It is sometimes divided into\n",
      "title =  Artificial intelligence in video games\n",
      "url =  https://en.wikipedia.org/wiki//wiki/Artificial_intelligence_in_video_games\n",
      "word timestamp =  37 KB (4,668 words) - 02:14, 30 April 2021\n",
      "description =  In video games, artificial intelligence (AI) is used to generate responsive, adaptive or intelligent behaviors primarily in non-player characters (NPCs)\n",
      "title =  Artificial intelligence marketing\n",
      "url =  https://en.wikipedia.org/wiki//wiki/Artificial_intelligence_marketing\n",
      "word timestamp =  4 KB (431 words) - 02:14, 11 March 2021\n",
      "description =  Artificial intelligence marketing (AIM) is a form of marketing leveraging artificial intelligence concept and model such as machine learning and Bayesian\n",
      "title =  Existential risk from artificial general intelligence\n",
      "url =  https://en.wikipedia.org/wiki//wiki/Existential_risk_from_artificial_general_intelligence\n",
      "word timestamp =  102 KB (12,085 words) - 13:46, 3 May 2021\n",
      "description =  Existential risk from artificial general intelligence is the hypothesis that substantial progress in artificial general intelligence (AGI) could someday\n",
      "title =  Outline of artificial intelligence\n",
      "url =  https://en.wikipedia.org/wiki//wiki/Outline_of_artificial_intelligence\n",
      "word timestamp =  35 KB (3,666 words) - 08:35, 18 April 2021\n",
      "description =  provided as an overview of and topical guide to artificial intelligence: Artificial intelligence (AI) – intelligence exhibited by machines or software. It is\n",
      "title =  Explainable artificial intelligence\n",
      "url =  https://en.wikipedia.org/wiki//wiki/Explainable_artificial_intelligence\n",
      "word timestamp =  36 KB (3,853 words) - 19:54, 25 April 2021\n",
      "description =  Explainable AI (XAI) is artificial intelligence (AI) in which the results of the solution can be understood by humans. It contrasts with the concept of\n",
      "title =  Timeline of artificial intelligence\n",
      "url =  https://en.wikipedia.org/wiki//wiki/Timeline_of_artificial_intelligence\n",
      "word timestamp =  66 KB (1,982 words) - 02:43, 13 April 2021\n",
      "description =  This is a timeline of artificial intelligence. Timeline of machine translation Timeline of machine learning McCorduck 2004, pp. 4–5 McCorduck (2004, pp\n",
      "title =  Friendly artificial intelligence\n",
      "url =  https://en.wikipedia.org/wiki//wiki/Friendly_artificial_intelligence\n",
      "word timestamp =  21 KB (2,519 words) - 07:33, 15 February 2021\n",
      "description =  Friendly artificial intelligence (also friendly AI or FAI) refers to hypothetical artificial general intelligence (AGI) that would have a positive (benign)\n",
      "title =  Artificial intelligence (disambiguation)\n",
      "url =  https://en.wikipedia.org/wiki//wiki/Artificial_intelligence_(disambiguation)\n",
      "word timestamp =  1 KB (149 words) - 04:27, 13 December 2020\n",
      "description =  Artificial intelligence is the intelligence exhibited by machines and software. Artificial intelligence may also refer to: Artificial Intelligence, a 1997\n",
      "title =  Regulation of artificial intelligence\n",
      "url =  https://en.wikipedia.org/wiki//wiki/Regulation_of_artificial_intelligence\n",
      "word timestamp =  39 KB (4,338 words) - 23:38, 3 May 2021\n",
      "description =  regulation of artificial intelligence is the development of public sector policies and laws for promoting and regulating artificial intelligence (AI); it is\n",
      "title =  Progress in artificial intelligence\n",
      "url =  https://en.wikipedia.org/wiki//wiki/Progress_in_artificial_intelligence\n",
      "word timestamp =  33 KB (3,078 words) - 13:33, 19 April 2021\n",
      "description =  Artificial intelligence applications have been used in a wide range of fields including medical diagnosis, stock trading, robot control, law, scientific\n",
      "title =  Artificial intelligence arms race\n",
      "url =  https://en.wikipedia.org/wiki//wiki/Artificial_intelligence_arms_race\n",
      "word timestamp =  43 KB (4,812 words) - 22:05, 4 March 2021\n",
      "description =  military artificial intelligence arms race is a competition between two or more states to have their military forces equipped with the best artificial intelligence\n",
      "title =  Artificial intelligence in fiction\n",
      "url =  https://en.wikipedia.org/wiki//wiki/Artificial_intelligence_in_fiction\n",
      "word timestamp =  19 KB (1,840 words) - 09:25, 20 April 2021\n",
      "description =  Artificial intelligence is a recurrent theme in science fiction, whether utopian, emphasising the potential benefits, or dystopian, emphasising the dangers\n"
     ]
    }
   ],
   "source": [
    "for item in content_list:\n",
    "    heading_title = item.find('div',{'class':'mw-search-result-heading'})\n",
    "    print('title = ',heading_title.find('a').get('title'))\n",
    "    print('url = ',root_uri+'wiki/'+heading_title.find('a').get('href'))\n",
    "    word_timestamp = item.find('div',{'class':'mw-search-result-data'}).text\n",
    "    print('word timestamp = ',word_timestamp)\n",
    "    description = item.find('div',{'class':'searchresult'}).text\n",
    "    print('description = ',description)"
   ]
  },
  {
   "cell_type": "code",
   "execution_count": null,
   "metadata": {},
   "outputs": [],
   "source": []
  }
 ],
 "metadata": {
  "kernelspec": {
   "display_name": "Python 3",
   "language": "python",
   "name": "python3"
  },
  "language_info": {
   "codemirror_mode": {
    "name": "ipython",
    "version": 3
   },
   "file_extension": ".py",
   "mimetype": "text/x-python",
   "name": "python",
   "nbconvert_exporter": "python",
   "pygments_lexer": "ipython3",
   "version": "3.7.6"
  }
 },
 "nbformat": 4,
 "nbformat_minor": 4
}
